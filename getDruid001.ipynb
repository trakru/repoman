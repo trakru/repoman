{
  "nbformat": 4,
  "nbformat_minor": 0,
  "metadata": {
    "colab": {
      "name": "getDruid001.ipynb",
      "provenance": [],
      "collapsed_sections": [],
      "include_colab_link": true
    },
    "kernelspec": {
      "name": "python3",
      "display_name": "Python 3"
    }
  },
  "cells": [
    {
      "cell_type": "markdown",
      "metadata": {
        "id": "view-in-github",
        "colab_type": "text"
      },
      "source": [
        "<a href=\"https://colab.research.google.com/github/trakru/repoman/blob/master/getDruid001.ipynb\" target=\"_parent\"><img src=\"https://colab.research.google.com/assets/colab-badge.svg\" alt=\"Open In Colab\"/></a>"
      ]
    },
    {
      "cell_type": "code",
      "metadata": {
        "id": "X4jeLIwrGSNL",
        "colab_type": "code",
        "colab": {
          "base_uri": "https://localhost:8080/",
          "height": 34
        },
        "outputId": "a996e041-9550-467d-9163-140cdcb00580"
      },
      "source": [
        "##initialize pandas\n",
        "from __future__ import print_function\n",
        "\n",
        "import pandas as pd\n",
        "pd.__version__"
      ],
      "execution_count": 5,
      "outputs": [
        {
          "output_type": "execute_result",
          "data": {
            "text/plain": [
              "'0.25.3'"
            ]
          },
          "metadata": {
            "tags": []
          },
          "execution_count": 5
        }
      ]
    },
    {
      "cell_type": "code",
      "metadata": {
        "id": "W2_0jb5HB5Mv",
        "colab_type": "code",
        "colab": {
          "base_uri": "https://localhost:8080/",
          "height": 364
        },
        "outputId": "7f91ed16-e02a-42a7-fd62-8d70a7b61cff"
      },
      "source": [
        "##install pyDruid in Colab\n",
        "##!pip install pydruid[pandas]"
      ],
      "execution_count": 2,
      "outputs": [
        {
          "output_type": "stream",
          "text": [
            "Collecting pydruid[pandas]\n",
            "\u001b[?25l  Downloading https://files.pythonhosted.org/packages/a8/bd/88ab430c639819871e069c9ccccebdd3c3698b044e0109545a902b880ddc/pydruid-0.5.7.tar.gz (6.0MB)\n",
            "\u001b[K     |████████████████████████████████| 6.0MB 6.9MB/s \n",
            "\u001b[?25hRequirement already satisfied: six>=1.9.0 in /usr/local/lib/python3.6/dist-packages (from pydruid[pandas]) (1.12.0)\n",
            "Requirement already satisfied: requests in /usr/local/lib/python3.6/dist-packages (from pydruid[pandas]) (2.21.0)\n",
            "Requirement already satisfied: pandas in /usr/local/lib/python3.6/dist-packages (from pydruid[pandas]) (0.25.3)\n",
            "Requirement already satisfied: chardet<3.1.0,>=3.0.2 in /usr/local/lib/python3.6/dist-packages (from requests->pydruid[pandas]) (3.0.4)\n",
            "Requirement already satisfied: certifi>=2017.4.17 in /usr/local/lib/python3.6/dist-packages (from requests->pydruid[pandas]) (2019.9.11)\n",
            "Requirement already satisfied: idna<2.9,>=2.5 in /usr/local/lib/python3.6/dist-packages (from requests->pydruid[pandas]) (2.8)\n",
            "Requirement already satisfied: urllib3<1.25,>=1.21.1 in /usr/local/lib/python3.6/dist-packages (from requests->pydruid[pandas]) (1.24.3)\n",
            "Requirement already satisfied: numpy>=1.13.3 in /usr/local/lib/python3.6/dist-packages (from pandas->pydruid[pandas]) (1.17.4)\n",
            "Requirement already satisfied: python-dateutil>=2.6.1 in /usr/local/lib/python3.6/dist-packages (from pandas->pydruid[pandas]) (2.6.1)\n",
            "Requirement already satisfied: pytz>=2017.2 in /usr/local/lib/python3.6/dist-packages (from pandas->pydruid[pandas]) (2018.9)\n",
            "Building wheels for collected packages: pydruid\n",
            "  Building wheel for pydruid (setup.py) ... \u001b[?25l\u001b[?25hdone\n",
            "  Created wheel for pydruid: filename=pydruid-0.5.7-py2.py3-none-any.whl size=33718 sha256=0c6838ced7f9639850b37890ae050c8f2f7668835ea4fddd798c2762e37dd761\n",
            "  Stored in directory: /root/.cache/pip/wheels/ca/86/07/d82a623e8132b7fb524f587309db6131ed688c7f3e7ef325a5\n",
            "Successfully built pydruid\n",
            "Installing collected packages: pydruid\n",
            "Successfully installed pydruid-0.5.7\n"
          ],
          "name": "stdout"
        }
      ]
    },
    {
      "cell_type": "code",
      "metadata": {
        "id": "73nLinGuCajC",
        "colab_type": "code",
        "colab": {}
      },
      "source": [
        "##initializing PyDruid library\n",
        "from pydruid.client import *\n",
        "from pylab import plt"
      ],
      "execution_count": 0,
      "outputs": []
    },
    {
      "cell_type": "code",
      "metadata": {
        "id": "aDM0QuDGCgqi",
        "colab_type": "code",
        "colab": {}
      },
      "source": [
        "##creating base url for query\n",
        "query = PyDruid('http://rsa-staging.ruckuslbs.com:8082/', 'druid/v2')"
      ],
      "execution_count": 0,
      "outputs": []
    },
    {
      "cell_type": "code",
      "metadata": {
        "id": "pGiwDvT7G6Yc",
        "colab_type": "code",
        "colab": {}
      },
      "source": [
        ""
      ],
      "execution_count": 0,
      "outputs": []
    }
  ]
}